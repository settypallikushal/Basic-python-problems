{
 "cells": [
  {
   "cell_type": "markdown",
   "id": "a6c43238",
   "metadata": {},
   "source": [
    "# Basic python problems"
   ]
  },
  {
   "cell_type": "markdown",
   "id": "36567380",
   "metadata": {},
   "source": [
    "# 1 .Swapping\n",
    "Description\n",
    "You are given two integer variables, x and y. You have to swap the values stored in x and y."
   ]
  },
  {
   "cell_type": "code",
   "execution_count": 3,
   "id": "6b2d98d8",
   "metadata": {},
   "outputs": [
    {
     "name": "stdout",
     "output_type": "stream",
     "text": [
      "12,15\n",
      "x before swapping: 12\n",
      "y before swapping: 15\n",
      "\n",
      "x after swapping: 15\n",
      "y after swapping: 12\n"
     ]
    }
   ],
   "source": [
    "#Take input using input()\n",
    "\n",
    "#input() takes input in form of the string\n",
    "in_string=input()\n",
    "\n",
    "#here extract the two numbers from the string\n",
    "\n",
    "#we know the values of our interest are separated by comma so we can use split\n",
    "mylist = in_string.split(',')\n",
    "#['12','15']\n",
    "#and now get our values \n",
    "#but they are in string so we first make them int\n",
    "x = int(mylist[0])\n",
    "y = int(mylist[1])\n",
    "\n",
    "# SAJAN'S APPROACH\n",
    "\n",
    "# #print x and y before swapping\n",
    "# print('x before swapping: {0}'.format(x))\n",
    "# print('y before swapping: {0}'.format(y))\n",
    "\n",
    "# #Writing your swapping code here\n",
    "# z = x\n",
    "# x = y\n",
    "# y = z\n",
    "# print()\n",
    "# #print x and y after swapping\n",
    "# print('x after swapping: {0}'.format(x))\n",
    "# print('y after swapping: {0}'.format(y))\n",
    "\n",
    "\n",
    "#without making a new Variable\n",
    "# print x and y before swapping\n",
    "print('x before swapping: {0}'.format(x))\n",
    "print('y before swapping: {0}'.format(y))\n",
    "#Writing your swapping code here\n",
    "x=x+y\n",
    "y=x-y\n",
    "x=x-y\n",
    "print()\n",
    "print('x after swapping: {0}'.format(x))\n",
    "print('y after swapping: {0}'.format(y))"
   ]
  },
  {
   "cell_type": "markdown",
   "id": "8d8e8354",
   "metadata": {},
   "source": [
    
    "# 2.Even or Odd\n"
   ]
  },
  {
   "cell_type": "markdown",
   "id": "3eb2781c",
   "metadata": {},
   "source": [
    "Given an integer, print whether it is Even or Odd.\n"
   ]
  },
  {
   "cell_type": "code",
   "execution_count": 4,
   "id": "db984f45",
   "metadata": {},
   "outputs": [
    {
     "name": "stdout",
     "output_type": "stream",
     "text": [
      "2\n",
      "Even\n"
     ]
    }
   ],
   "source": [
    "#Take input on your own\n",
    "num= int(input())\n",
    "\n",
    "#start writing your code from here\n",
    "if num%2==0:\n",
    "    print('Even')\n",
    "else:\n",
    "    print('Odd')\n"
   ]
  },
  {
   "cell_type": "markdown",
   "id": "09b4fa97",
   "metadata": {},
   "source": [
    "# 3.Beautiful, Pretty and Sexy\n"
   ]
  },
  {
   "cell_type": "markdown",
   "id": "3ab250c7",
   "metadata": {},
   "source": [
    "A number k is beautiful if it is of the form 3n+1, is pretty if it is of form 3n+2 and is sexy if it is of form 3n.\n",
    "\n",
    "Given a number k, print if it is beautiful, pretty or sexy.\n",
    "\n"
   ]
  },
  {
   "cell_type": "code",
   "execution_count": 5,
   "id": "a1f1c083",
   "metadata": {},
   "outputs": [
    {
     "name": "stdout",
     "output_type": "stream",
     "text": [
      "6\n",
      "sexy\n"
     ]
    }
   ],
   "source": [
    "#input has been taken for you\n",
    "\n",
    "k=int(input())\n",
    "\n",
    "#check if the number is beautiful, pretty or sexy\n",
    "\n",
    "if k%3==0: #if k is of form 3n\n",
    "    print('sexy')\n",
    "elif k%3==1: #else if k is of form 3n+1\n",
    "    print('beautiful')\n",
    "elif k%3==2: #else if k is of form 3n+2\n",
    "    print('pretty')\n"
   ]
  },
  {
   "cell_type": "markdown",
   "id": "7acc27fc",
   "metadata": {},
   "source": [
    "# 4. Alarm Clock\n"
   ]
  },
  {
   "cell_type": "markdown",
   "id": "53802664",
   "metadata": {},
   "source": [
    "You're trying to automate your alarm clock by writing a function for it. You're given a day of the week encoded as 1=Mon, 2=Tue, ... 6=Sat, 7=Sun, and whether you are on vacation as a boolean value (A Boolean object is either True or False). Based on the day and whether you're on vacation, write a function that returns a time in the form of a string indicating when the alarm clock should ring. \n",
    "\n",
    "\n",
    "\n",
    "When not on vacation, on weekdays, the alarm should ring at '7:00' and on the weekends (Saturday and Sunday), it should ring at '10:00'.\n",
    "\n",
    "\n",
    "\n",
    "While on vacation, it should ring at '10:00' on weekdays. On vacation, it should not ring on weekends; that is, it should return 'off'.\n",
    "\n"
   ]
  },
  {
   "cell_type": "code",
   "execution_count": 4,
   "id": "139c2918",
   "metadata": {},
   "outputs": [
    {
     "name": "stdout",
     "output_type": "stream",
     "text": [
      "[3, True]\n",
      "10:00\n"
     ]
    }
   ],
   "source": [
    "#Take input here\n",
    "#we will take input using ast sys\n",
    "import ast\n",
    "input_str = input()\n",
    "\n",
    "#ast.literal_eval() will evaluate the string and make a data structure for the same\n",
    "#here the input is a list since input is in '[...]', so ast.literal_eval() will\n",
    "#make a list with the same data as passed\n",
    "input_list = ast.literal_eval(input_str)\n",
    "\n",
    "#the data or the two values in list is now changed to separate variables\n",
    "day_of_the_week = input_list[0] #first element is an integer denoting the day of the week\n",
    "is_on_vacation = input_list[1] #this is a boolean denoting if its vacation or not\n",
    "\n",
    "# write your code here\n",
    "\n",
    "#we will solve this using a function that returns a string.\n",
    "#later we will just print the string\n",
    "\n",
    "def alarm_time(day_of_the_week, is_on_vacation):\n",
    "    weekend = [6,7] #encoding of weekend days sat and sun are 6 and 7\n",
    "    if is_on_vacation:\n",
    "        if day_of_the_week not in weekend:\n",
    "            return '10:00'\n",
    "        else: #its weekend\n",
    "            return 'off'\n",
    "    else:\n",
    "        if day_of_the_week not in weekend:\n",
    "            return '7:00'\n",
    "        else: #its weekend\n",
    "            return '10:00'\n",
    "#end of function\n",
    "\n",
    "#print the result\n",
    "print(alarm_time(day_of_the_week, is_on_vacation))\n"
   ]
  },
  {
   "cell_type": "markdown",
   "id": "90389d4e",
   "metadata": {},
   "source": [
    "# 5. Factorial\n"
   ]
  },
  {
   "cell_type": "markdown",
   "id": "63b0bcfa",
   "metadata": {},
   "source": [
    "Factorial is a mathematical function denoted by '!'. It is defined as\n",
    "\n",
    "\n",
    "\n",
    "n factorial = n!= 1*2*3...*(n-1)*n\n",
    "\n",
    "\n",
    "\n",
    "In this question, you have to make a function that will take an integer as input and return the factorial of that integer if that integer is greater than or equal to zero and return -1 if the number is less than zero or negative."
   ]
  },
  {
   "cell_type": "code",
   "execution_count": 6,
   "id": "2c171c0a",
   "metadata": {},
   "outputs": [
    {
     "name": "stdout",
     "output_type": "stream",
     "text": [
      "8\n",
      "720\n"
     ]
    }
   ],
   "source": [
    "#take the input here\n",
    "number=int(input())\n",
    "#the function definition starts here\n",
    "def factorial(n):\n",
    "    #write the funtion here that finds and RETURNS factorial of next if \n",
    "    if n<0:\n",
    "        return -1\n",
    "    elif n==0:\n",
    "        return 1\n",
    "    else:\n",
    "        f=1\n",
    "        for i in range(1,n-1): \n",
    "            f=f*i\n",
    "        return f\n",
    "#function definition ends here\n",
    "\n",
    "#do not alter the code typed below\n",
    "k=factorial(number)\n",
    "print(k)"
   ]
  },
  {
   "cell_type": "markdown",
   "id": "0132e162",
   "metadata": {},
   "source": [
    "# 6.Reverse the Digits\n"
   ]
  },
  {
   "cell_type": "markdown",
   "id": "795825e7",
   "metadata": {},
   "source": [
    "You will be given a number. You have to reverse the digits of the number and print it.\n",
    "\n"
   ]
  },
  {
   "cell_type": "code",
   "execution_count": 9,
   "id": "333a1f23",
   "metadata": {},
   "outputs": [
    {
     "name": "stdout",
     "output_type": "stream",
     "text": [
      "000999887654323456789\n",
      "987654323456788999\n"
     ]
    }
   ],
   "source": [
    "#take input of the number here\n",
    "n = int(input())\n",
    "#write code to reverse the number here\n",
    "r=0\n",
    "while(n>0):\n",
    "    r = r*10 + n%10\n",
    "    n = n//10\n",
    "print(r)\n"
   ]
  },
  {
   "cell_type": "markdown",
   "id": "f86f072a",
   "metadata": {},
   "source": [
    "# 7.How Many Chocolates?\n"
   ]
  },
  {
   "cell_type": "markdown",
   "id": "a4083b51",
   "metadata": {},
   "source": [
    "Aslam loves chocolates. He goes to a shop to buy his favourite chocolate. There he notices there is an offer going on; upon bringing 3 wrappers of the same chocolate, you will get new chocolate for free if Sanjay has m Rupees. How many chocolates will he be able to eat if each chocolate costs c Rupees?"
   ]
  },
  {
   "cell_type": "code",
   "execution_count": 2,
   "id": "853b940c",
   "metadata": {},
   "outputs": [
    {
     "name": "stdout",
     "output_type": "stream",
     "text": [
      "3,1\n",
      "4\n"
     ]
    }
   ],
   "source": [
    "#take input here\n",
    "mystring = input()\n",
    "mylist = mystring.split(',')\n",
    "\n",
    "m = int(mylist[0])\n",
    "c = int(mylist[1])\n",
    "\n",
    "#start writing your code here\n",
    "\n",
    "choc = m//c\n",
    "w = m//c\n",
    "\n",
    "while w//3!=0:\n",
    "    choc = choc + w//3\n",
    "    w = w//3 + w%3\n",
    "    \n",
    "    \n",
    "#dont forget to print the number of chocolates Sanjay can eat\n",
    "print(choc)\n",
    "\n",
    "\n",
    "\n"
   ]
  },
  {
   "cell_type": "markdown",
   "id": "10f066ba",
   "metadata": {},
   "source": [
    "# 8.Armstrong Number\n",
    "\n"
   ]
  },
  {
   "cell_type": "code",
   "execution_count": 8,
   "id": "603a1739",
   "metadata": {},
   "outputs": [
    {
     "name": "stdout",
     "output_type": "stream",
     "text": [
      "9\n",
      "False\n"
     ]
    },
    {
     "data": {
      "text/plain": [
       "'\\ns=0 #we will store sum in this\\nnum=n #mqke a copy of n\\nwhile n!=0:\\n    s=s+ ((n%10)**3)\\n    n=n//10\\n\\nprint(s==)\\n\\n\\n'"
      ]
     },
     "execution_count": 8,
     "metadata": {},
     "output_type": "execute_result"
    }
   ],
   "source": [
    "n=int(input())\n",
    "\n",
    "#we can use list comprehension and map function to get the digits of the number\n",
    "digits=list(map(int,str(n)))\n",
    "#str(n) converts the number to string, an iterable, and we then simple convert each char of the string \n",
    "#which in this case is a digit to int\n",
    "#and get a list of all the digits of n\n",
    "\n",
    "#we then use map again to find the sum of cubes of all digits stored in int\n",
    "#if this is same as n, then armstrong number else not\n",
    "num=sum(list(map(lambda x:x**3,digits)))\n",
    "print(num==n)\n",
    "\n",
    "\n",
    "#without getting into lists and list comprehension, we can also use a approach similar to \n",
    "#that taken in reverse the digits\n",
    "\n",
    "#input number is in n\n",
    "\n",
    "'''\n",
    "s=0 #we will store sum in this\n",
    "num=n #mqke a copy of n\n",
    "while n!=0:\n",
    "    s=s+ ((n%10)**3)\n",
    "    n=n//10\n",
    "\n",
    "print(s==)\n",
    "\n",
    "\n",
    "'''"
   ]
  },
  {
   "cell_type": "markdown",
   "id": "3e416277",
   "metadata": {},
   "source": [
    "# 9.Sum of Primes"
   ]
  },
  {
   "cell_type": "code",
   "execution_count": 9,
   "id": "9b1d3d96",
   "metadata": {},
   "outputs": [
    {
     "name": "stdout",
     "output_type": "stream",
     "text": [
      "8\n",
      "17\n"
     ]
    }
   ],
   "source": [
    "n=int(input())\n",
    "\n",
    "#check if the number is prime or no\n",
    "def is_prime(num):\n",
    "    for i in range(2,num):\n",
    "        if num%i==0:\n",
    "            return False\n",
    "    return True\n",
    "\n",
    "s=0 #sum of primes\n",
    "for i in range(2, n+1):\n",
    "    if(is_prime(i)):\n",
    "        s=s+i\n",
    "print(s)\n",
    "    \n",
    "\n",
    "\n",
    "\n",
    "\n",
    "\n",
    "#you can solve the problem in one line as well\n",
    "#the following line is the one line solution\n",
    "#print(sum(num for num in range(2,n+1)if all(num%i!=0 for i in range(2,int(num)+1))))"
   ]
  },
  {
   "cell_type": "markdown",
   "id": "e39c1d97",
   "metadata": {},
   "source": [
    "# 10.Lego Stack\n"
   ]
  },
  {
   "cell_type": "markdown",
   "id": "9bda8d2a",
   "metadata": {},
   "source": [
    "You are given a row of Lego Blocks consisting of n blocks. All the blocks given have a square base whose side length is known. You need to stack the blocks over each other and create a vertical tower. Block-1 can go over Block-2 only if sideLength(Block-2)>=sideLength(Block-1).\n",
    "\n",
    "\n",
    "\n",
    "From the row of Lego blocks, you can only pick up either the leftmost or rightmost block.\n",
    "\n",
    "Print \"Possible\" if it is possible to stack all n cubes this way or else print \"Impossible\"."
   ]
  },
  {
   "cell_type": "code",
   "execution_count": 10,
   "id": "40b2ac00",
   "metadata": {},
   "outputs": [
    {
     "name": "stdout",
     "output_type": "stream",
     "text": [
      "[5 ,4, 2, 1, 4 ,5]\n",
      "Possible\n"
     ]
    },
    {
     "data": {
      "text/plain": [
       "'\\nl=len(sides)\\ndiff = [(sides[i]-sides[i+1]) for i in range(l-1)]\\ni = 0 \\nwhile (i<l-1 and diff[i]>=0) : i += 1 \\nwhile (i<l-1 and diff[i]<=0) : i += 1\\nif (i==l-1) : print(\"Possible\") \\nelse : print(\"Impossible\")\\n\\n#to understand the code, try printing out all intermediate variables.\\n'"
      ]
     },
     "execution_count": 10,
     "metadata": {},
     "output_type": "execute_result"
    }
   ],
   "source": [
    "import ast\n",
    "input_str = input()\n",
    "sides = ast.literal_eval(input_str)#list of side lengths\n",
    "\n",
    "#we will make a tower by taking the larger lego(brick) from one of the ends \n",
    "#of the list and then remove that element\n",
    "tower=[]\n",
    "\n",
    "while sides: #while sides is not empty\n",
    "    if sides[0]>=sides[-1]:\n",
    "        tower.append(int(sides[0]))\n",
    "        sides.pop()\n",
    "    else:\n",
    "        tower.append(int(sides[-1]))\n",
    "        sides.pop(-1)\n",
    "\n",
    "#now we check if all the elements are in descending order in tower\n",
    "flag=1\n",
    "for i in range(len(tower)-2):\n",
    "    if tower[i]<tower[i+1]:\n",
    "        flag=0\n",
    "        break\n",
    "if(flag==1):\n",
    "    print('Possible')\n",
    "else:\n",
    "    print('Impossible')\n",
    "    \n",
    "#you can try the below solution as well\n",
    "'''\n",
    "l=len(sides)\n",
    "diff = [(sides[i]-sides[i+1]) for i in range(l-1)]\n",
    "i = 0 \n",
    "while (i<l-1 and diff[i]>=0) : i += 1 \n",
    "while (i<l-1 and diff[i]<=0) : i += 1\n",
    "if (i==l-1) : print(\"Possible\") \n",
    "else : print(\"Impossible\")\n",
    "\n",
    "#to understand the code, try printing out all intermediate variables.\n",
    "'''"
   ]
  },
  {
   "cell_type": "code",
   "execution_count": null,
   "id": "54380ff4",
   "metadata": {},
   "outputs": [],
   "source": []
  }
 ],
 "metadata": {
  "kernelspec": {
   "display_name": "Python 3 (ipykernel)",
   "language": "python",
   "name": "python3"
  },
  "language_info": {
   "codemirror_mode": {
    "name": "ipython",
    "version": 3
   },
   "file_extension": ".py",
   "mimetype": "text/x-python",
   "name": "python",
   "nbconvert_exporter": "python",
   "pygments_lexer": "ipython3",
   "version": "3.9.12"
  }
 },
 "nbformat": 4,
 "nbformat_minor": 5
}
